{
 "cells": [
  {
   "cell_type": "code",
   "execution_count": 1,
   "metadata": {
    "collapsed": true
   },
   "outputs": [],
   "source": [
    "import numpy as np\n",
    "from collections import OrderedDict"
   ]
  },
  {
   "cell_type": "markdown",
   "metadata": {},
   "source": [
    "# Rules"
   ]
  },
  {
   "cell_type": "markdown",
   "metadata": {},
   "source": [
    "1. start in room `0`\n",
    "2. try to get to room `max`"
   ]
  },
  {
   "cell_type": "code",
   "execution_count": 18,
   "metadata": {
    "collapsed": false
   },
   "outputs": [],
   "source": [
    "# get size of building from dict\n",
    "def find_building_size(a_building_dict):\n",
    "    items = a_building_dict.items()\n",
    "    exit_doors = list(filter(lambda x: x[1] == 100, items))\n",
    "    return exit_doors[0][0][1] + 1\n",
    "\n",
    "# build R table\n",
    "def build_R_table(building_dict):\n",
    "    \"\"\"\n",
    "    build the R-table with information from building_dict\n",
    "    :param building_dict: Dict where each key is an ordered pair (from room to room) and value is reward\n",
    "        Note: -1 is for an ordered pair that is *not* valid (can't go from room to room)\n",
    "    :param num_rooms: Size of building\n",
    "    :return: `numpy` matrix of size `num_rooms` x `num_rooms` where the cell value is the reward\n",
    "    \"\"\"\n",
    "    # find buildilng size\n",
    "    num_rooms = find_building_size(building_dict)\n",
    "    # build empty R table\n",
    "    r_table = np.empty((num_rooms, num_rooms))\n",
    "    # fill all with -1 (no room connections)\n",
    "    r_table.fill(-1)\n",
    "    # update R table with info from building dict\n",
    "    for cell in building_dict.keys():\n",
    "        r_table[cell] = building_dict[cell]\n",
    "    return r_table"
   ]
  },
  {
   "cell_type": "code",
   "execution_count": 19,
   "metadata": {
    "collapsed": true
   },
   "outputs": [],
   "source": [
    "# build Q table\n",
    "# where agent knows how many rooms\n",
    "def initialize_Q_table_known(num_rooms):\n",
    "    \"\"\"\n",
    "    initialize the Q-table when the number of rooms is known\n",
    "    :param num_rooms: Size of building\n",
    "    :return: `numpy` matrix of all zeros with dimensions `num_rooms` x `num_rooms`\n",
    "    \"\"\"\n",
    "    return np.zeros((num_rooms, num_rooms))\n",
    "\n",
    "# where agent does *not* know how many rooms\n",
    "def initialize_Q_table_unknown():\n",
    "    \"\"\"\n",
    "    initialize the Q-table when the number of rooms is *not* known\n",
    "    :return: `numpy` matrix of size `1` x `1`\n",
    "    \"\"\"\n",
    "    return np.zeros((1,1))"
   ]
  },
  {
   "cell_type": "code",
   "execution_count": 20,
   "metadata": {
    "collapsed": true
   },
   "outputs": [],
   "source": [
    "# each key is an ordered pair of room to room\n",
    "# value is reward\n",
    "building_dict = {\n",
    "    (0,4):0,\n",
    "    (1,3):0,\n",
    "    (1,5):100,\n",
    "    (2,3):0,\n",
    "    (3,1):0,\n",
    "    (3,2):0,\n",
    "    (3,4):0,\n",
    "    (4,0):0,\n",
    "    (4,3):0,\n",
    "    (4,5):100,\n",
    "    (5,1):0,\n",
    "    (5,4):0,\n",
    "    (5,5):100\n",
    "}"
   ]
  },
  {
   "cell_type": "code",
   "execution_count": 21,
   "metadata": {
    "collapsed": false
   },
   "outputs": [
    {
     "data": {
      "text/plain": [
       "array([[  -1.,   -1.,   -1.,   -1.,    0.,   -1.],\n",
       "       [  -1.,   -1.,   -1.,    0.,   -1.,  100.],\n",
       "       [  -1.,   -1.,   -1.,    0.,   -1.,   -1.],\n",
       "       [  -1.,    0.,    0.,   -1.,    0.,   -1.],\n",
       "       [   0.,   -1.,   -1.,    0.,   -1.,  100.],\n",
       "       [  -1.,    0.,   -1.,   -1.,    0.,  100.]])"
      ]
     },
     "execution_count": 21,
     "metadata": {},
     "output_type": "execute_result"
    }
   ],
   "source": [
    "r_table = build_R_table(building_dict)\n",
    "r_table"
   ]
  },
  {
   "cell_type": "code",
   "execution_count": 22,
   "metadata": {
    "collapsed": false
   },
   "outputs": [
    {
     "data": {
      "text/plain": [
       "array([[ 0.,  0.,  0.,  0.,  0.,  0.],\n",
       "       [ 0.,  0.,  0.,  0.,  0.,  0.],\n",
       "       [ 0.,  0.,  0.,  0.,  0.,  0.],\n",
       "       [ 0.,  0.,  0.,  0.,  0.,  0.],\n",
       "       [ 0.,  0.,  0.,  0.,  0.,  0.],\n",
       "       [ 0.,  0.,  0.,  0.,  0.,  0.]])"
      ]
     },
     "execution_count": 22,
     "metadata": {},
     "output_type": "execute_result"
    }
   ],
   "source": [
    "initialized_q_table = initialize_Q_table_known(6)\n",
    "initialized_q_table"
   ]
  },
  {
   "cell_type": "code",
   "execution_count": 23,
   "metadata": {
    "collapsed": true
   },
   "outputs": [],
   "source": [
    "def _find_valid_moves(current_state, r_table):\n",
    "    \"\"\"\n",
    "    Finds all valid moves from one current state\n",
    "    :param current_state:\n",
    "    :param r_table:\n",
    "    :return: `numpy` array (1-d) consisting of valid states\n",
    "    \"\"\"\n",
    "    # find all valid moves from current_state\n",
    "    valid_moves = np.where(r_table[current_state] != -1)[0]\n",
    "    return valid_moves\n",
    "\n",
    "# method for making a \"explore\" move\n",
    "def _one_explore_move(current_state, r_table):\n",
    "    \"\"\"\n",
    "    Defines one random move of our agent\n",
    "    :param current_state: the current state of the agent\n",
    "    :param r_table: R-table which shows allowed actions (i.e. any cell from start_state that is *not* -1)\n",
    "    :return: an action (i.e. a room to move to)\n",
    "    \"\"\"\n",
    "    # find all valid moves from current_state\n",
    "    valid_moves = _find_valid_moves(current_state, r_table)\n",
    "    # make a random choice from available moves\n",
    "    choice = np.random.choice(valid_moves)\n",
    "    return choice\n",
    "\n",
    "# method for making an \"exploit\" move\n",
    "def _one_exploit_move(current_state, r_table, q_table):\n",
    "    \"\"\"\n",
    "    Defines one random move of our agent\n",
    "    :param current_state: the current state of the agent\n",
    "    :param r_table: R-table which shows allowed actions (i.e. any cell from start_state that is *not* -1)\n",
    "    :param q_table: Q-table of (current) learned Q-values\n",
    "    :return: an action (i.e. a room to move to)\n",
    "    \"\"\"\n",
    "    # possible next moves\n",
    "    next_moves = _find_valid_moves(current_state, r_table)\n",
    "    # rebuild coordinates\n",
    "    next_moves_coordinates = []\n",
    "    for elem in next_moves:\n",
    "        next_moves_coordinates.append((current_state, elem))\n",
    "    # get current Q value for each next_move\n",
    "    next_Q_values = []\n",
    "    for coord in next_moves_coordinates:\n",
    "        next_Q_values.append(q_table[coord])\n",
    "    # find maximum Q-value from next moves\n",
    "    max_next_move = np.argmax(next_Q_values)\n",
    "    return next_moves_coordinates[max_next_move][1]\n",
    "\n",
    "# method for making a move\n",
    "def _one_move(explore_rate, current_state, r_table, q_table):\n",
    "    \"\"\"\n",
    "    Make one move\n",
    "    :param explore_rate: percentage of time to \"explore\" (i.e. make random move)\n",
    "    :param current_state:\n",
    "    :param r_table:\n",
    "    :param q_table:\n",
    "    :return: an action (i.e. a room to move to), whether it was explore or exploit\n",
    "    \"\"\"\n",
    "    # determine if explore or exploit\n",
    "    rand_number = np.random.randint(0, 100)\n",
    "    if rand_number > (explore_rate * 100):\n",
    "        # exploit\n",
    "        action = _one_exploit_move(current_state, r_table, q_table)\n",
    "        action_type = \"exploit\"\n",
    "    else:\n",
    "        # explore\n",
    "        action = _one_explore_move(current_state, r_table)\n",
    "        action_type = \"explore\"\n",
    "    return action, action_type"
   ]
  },
  {
   "cell_type": "code",
   "execution_count": 24,
   "metadata": {
    "collapsed": false
   },
   "outputs": [],
   "source": [
    "def update_Q(q_table, r_table, gamma, current_state, action):\n",
    "    \"\"\"\n",
    "    Updates Q-table after *one* move\n",
    "    :param q_table:\n",
    "    :param r_table:\n",
    "    :param gamma:\n",
    "    :param current_state:\n",
    "    :param action:\n",
    "    :return: an updated q_table\n",
    "    \"\"\"\n",
    "    # calculate instant reward: R[current_state, action]\n",
    "    instant_reward = r_table[current_state, action]\n",
    "    # if action is invalid, exit\n",
    "    if instant_reward == -1:\n",
    "        return None\n",
    "    else:\n",
    "        max_next_move_index = _one_exploit_move(action, r_table, q_table)\n",
    "        max_next_move_value = q_table[action, max_next_move_index]\n",
    "        # update q_table (with a copy)\n",
    "        q_table_copy = np.copy(q_table)\n",
    "        q_table_copy[current_state, action] = instant_reward + gamma * max_next_move_value\n",
    "        return q_table_copy"
   ]
  },
  {
   "cell_type": "code",
   "execution_count": 25,
   "metadata": {
    "collapsed": true
   },
   "outputs": [],
   "source": [
    "# method for entire move, including q_update\n",
    "def make_move(explore_rate, current_state, r_table, gamma, q_table):\n",
    "    \"\"\"\n",
    "    Make one move *and* update q-table\n",
    "    :param explore_rate: percentage of time to \"explore\" (i.e. make random move)\n",
    "    :param current_state:\n",
    "    :param r_table:\n",
    "    :param gamma:\n",
    "    :param q_table:    \n",
    "    :return: (action, updated_q_table)\n",
    "    \"\"\"\n",
    "    # make move\n",
    "    action, action_type = _one_move(explore_rate, current_state, r_table, q_table)\n",
    "    # update q-table\n",
    "    updated_q = update_Q(q_table, r_table, gamma, current_state, action)\n",
    "    return (action, action_type, updated_q)"
   ]
  },
  {
   "cell_type": "code",
   "execution_count": 26,
   "metadata": {
    "collapsed": false
   },
   "outputs": [],
   "source": [
    "def play_round(q_table, r_table, gamma, explore_rate):\n",
    "    \"\"\"\n",
    "    Play one round of game, starting at a random room until agent gets to room 5\n",
    "    :param q_table:\n",
    "    :param r_table:\n",
    "    :param gamma:\n",
    "    :param explore_rate:\n",
    "    :return: ???\n",
    "    \"\"\"\n",
    "    # find exit room\n",
    "    exit_room = r_table.shape[0] - 1\n",
    "    # randomize starting room\n",
    "    starting_room = 0\n",
    "    # build variables for housing history\n",
    "    moves_history = [starting_room]\n",
    "    action_type_history = [None]\n",
    "    q_table_history = [q_table]\n",
    "    # make first move\n",
    "    action, action_type, q_update = make_move(explore_rate, starting_room, r_table, gamma, q_table)\n",
    "    # add to history\n",
    "    moves_history.append(action)\n",
    "    action_type_history.append(action_type)\n",
    "    q_table_history.append(q_update)\n",
    "    # continue moving through rooms until reach exit\n",
    "    while action != exit_room:\n",
    "        action, action_type, q_update = make_move(explore_rate, action, r_table, gamma, q_update)\n",
    "        moves_history.append(action)\n",
    "        action_type_history.append(action_type)\n",
    "        q_table_history.append(q_update)\n",
    "    # if at exit\n",
    "#     print(\"agent required {} moves before reaching exit\".format(len(moves_history) - 1))\n",
    "    # determine actual explore rate\n",
    "    actual_explore_count = action_type_history.count(\"explore\") \n",
    "    actual_explore_rate = float(actual_explore_count) / float(len(action_type_history))\n",
    "#     print(\"agent's actual explore rate was {} \".format(actual_explore_rate))\n",
    "    return moves_history, action_type_history, q_table_history"
   ]
  },
  {
   "cell_type": "code",
   "execution_count": 11,
   "metadata": {
    "collapsed": false
   },
   "outputs": [],
   "source": [
    "# TODO fix bug\n",
    "def learn(num_rounds, explore_rate, gamma, building_dict, explore_rate_decay=1, gamma_decay=1):\n",
    "    \"\"\"\n",
    "    Let agent learn the maze\n",
    "    :param num_rounds: Maximum number of rounds to play\n",
    "    :param explore_rate:\n",
    "    :param gamma:\n",
    "    :param building_dict:\n",
    "    :param explore_rate_decay:\n",
    "    :param gamma_decay:\n",
    "    :return: [list of rounds], where round = (moves_history, action_type_history, q_table_history)\n",
    "    \"\"\"\n",
    "    # get exit door\n",
    "    building_size = find_building_size(building_dict)\n",
    "    # build r_table\n",
    "    r_table = build_R_table(building_dict)\n",
    "    round_history = []\n",
    "    # play first round\n",
    "    q_table = initialize_Q_table_known(building_size)\n",
    "    moves_history, action_type_history, q_table_history = play_round(q_table, r_table, gamma, explore_rate)\n",
    "    round_history.append((moves_history, action_type_history, q_table_history))\n",
    "    # loop through remaining rounds\n",
    "    converge_counter = 0\n",
    "    rounds = 0\n",
    "    for i in range(1,num_rounds):\n",
    "        while np.sum(q_table) != np.sum(round_history[-1][2]) and converge_counter < 10:\n",
    "            rounds += 1\n",
    "            # take last q-table from previous round\n",
    "            q_table = q_table_history[-1]\n",
    "            moves_history, action_type_history, q_table_history = play_round(q_table, r_table, gamma, explore_rate)\n",
    "            round_history.append((moves_history, action_type_history, q_table_history))\n",
    "            # check for converging Q-table\n",
    "            if np.sum(round_history[-2][2]) != np.sum(round_history[-1][2]):\n",
    "                converge_counter += 1\n",
    "    print(\"Q-table converged in less than {} rounds\".format(rounds))\n",
    "    return round_history\n",
    "\n",
    "    "
   ]
  },
  {
   "cell_type": "code",
   "execution_count": 27,
   "metadata": {
    "collapsed": false
   },
   "outputs": [
    {
     "name": "stdout",
     "output_type": "stream",
     "text": [
      "Q-table converged in less than 16 rounds\n"
     ]
    },
    {
     "data": {
      "text/plain": [
       "array([[   0.,    0.,    0.,    0.,   80.,    0.],\n",
       "       [   0.,    0.,    0.,    0.,    0.,  100.],\n",
       "       [   0.,    0.,    0.,    0.,    0.,    0.],\n",
       "       [   0.,   80.,    0.,    0.,    0.,    0.],\n",
       "       [   0.,    0.,    0.,   64.,    0.,  100.],\n",
       "       [   0.,    0.,    0.,    0.,    0.,    0.]])"
      ]
     },
     "execution_count": 27,
     "metadata": {},
     "output_type": "execute_result"
    }
   ],
   "source": [
    "# let the agent go through the maze til it learns the fastest route\n",
    "hist = learn(1000, .5, .8, building_dict)\n",
    "converged_q = hist[-1][-1][-1]\n",
    "converged_q"
   ]
  },
  {
   "cell_type": "code",
   "execution_count": 28,
   "metadata": {
    "collapsed": false
   },
   "outputs": [
    {
     "data": {
      "text/plain": [
       "[0, 4, 5]"
      ]
     },
     "execution_count": 28,
     "metadata": {},
     "output_type": "execute_result"
    }
   ],
   "source": [
    "# play as the agent with \"0 explore\"\n",
    "m, _, _ = play_round(converged_q, r_table, 1, 0)\n",
    "m"
   ]
  },
  {
   "cell_type": "markdown",
   "metadata": {
    "collapsed": true
   },
   "source": [
    "# play as agent with *no knowledge of how many rooms"
   ]
  },
  {
   "cell_type": "code",
   "execution_count": 15,
   "metadata": {
    "collapsed": false
   },
   "outputs": [],
   "source": [
    "#TODO update - make fewer connections to exit door\n",
    "def build_random_building(num_rooms, num_doors):\n",
    "    \"\"\"\n",
    "    Builds a building_dict for a random building, with exit at last room\n",
    "    :param num_rooms:\n",
    "    :param num_doors: Total number of doors in the building\n",
    "    :return: building_dict\n",
    "    \"\"\"\n",
    "    # initialize building_dict\n",
    "    building_dict = OrderedDict()\n",
    "    # set exit room\n",
    "    exit_room = num_rooms - 1\n",
    "    # determine minimum number of doors needed to get through building\n",
    "    min_doors = num_rooms\n",
    "    # keep track of total doors\n",
    "    total_doors = 0\n",
    "    # keep track of doors to exit room\n",
    "    exit_room_doors = 0\n",
    "    \n",
    "    if min_doors > num_doors:\n",
    "        print(\"must have at least as many doors as rooms\")\n",
    "        return None\n",
    "    \n",
    "    # helper functions\n",
    "    def make_door(building_dict, current_room, allow_exit):\n",
    "        \"\"\"\n",
    "        randomly pick room to build door to\n",
    "        \"\"\"\n",
    "        random_room = current_room\n",
    "        while random_room == current_room and (current_room, random_room) not in building_dict:\n",
    "            if allow_exit:\n",
    "                random_room = np.random.randint(0, num_rooms)\n",
    "            else:\n",
    "                random_room = np.random.randint(0, num_rooms - 1)\n",
    "        return random_room\n",
    "    \n",
    "    def go_through_door():\n",
    "        \"\"\"\n",
    "        flip a coin to decide whether to go through door when building,\n",
    "        or build another door from same room\n",
    "        \"\"\"\n",
    "        coin_flip = np.random.randint(0,2)\n",
    "        if coin_flip:\n",
    "            return True\n",
    "        else:\n",
    "            return False\n",
    "    \n",
    "    def update_building_dict(building_dict, current_room, new_room):\n",
    "        \"\"\"\n",
    "        Updates building_dict in place\n",
    "        \"\"\"\n",
    "        if new_room == exit_room:\n",
    "            building_dict[(current_room, new_room)] = 100\n",
    "        else:\n",
    "            building_dict[(current_room, new_room)] = 0\n",
    "            building_dict[(new_room, current_room)] = 0\n",
    "            \n",
    "    # start in room 0\n",
    "    current_room = 0\n",
    "    # repeat until finished\n",
    "    while total_doors < num_doors or exit_room_doors < 1:\n",
    "        building_dict_keys_size = len(building_dict.keys())\n",
    "        # only allow exit door if 75% of doors have already been built\n",
    "        if float(building_dict_keys_size) / float(num_doors) > .99:\n",
    "            new_room = make_door(building_dict, current_room, True)\n",
    "        else:\n",
    "            new_room = make_door(building_dict, current_room, False)\n",
    "        # add to building_dict\n",
    "        update_building_dict(building_dict, current_room, new_room)\n",
    "        # update counters\n",
    "        if len(building_dict.keys()) > building_dict_keys_size:\n",
    "            total_doors += 1\n",
    "        if new_room == exit_room:\n",
    "            exit_room_doors += 1\n",
    "        # decide whether to advance\n",
    "        advance = go_through_door()\n",
    "        if advance:\n",
    "            current_room = new_room\n",
    "    return building_dict"
   ]
  },
  {
   "cell_type": "code",
   "execution_count": 16,
   "metadata": {
    "collapsed": false
   },
   "outputs": [],
   "source": [
    "# make a random building\n",
    "rand_building_dict = build_random_building(500, 600)\n",
    "rand_r_table = build_R_table(rand_building_dict)"
   ]
  },
  {
   "cell_type": "code",
   "execution_count": 17,
   "metadata": {
    "collapsed": false
   },
   "outputs": [
    {
     "ename": "ValueError",
     "evalue": "attempt to get argmax of an empty sequence",
     "output_type": "error",
     "traceback": [
      "\u001b[0;31m---------------------------------------------------------------------------\u001b[0m",
      "\u001b[0;31mAttributeError\u001b[0m                            Traceback (most recent call last)",
      "\u001b[0;32m/Users/mcapizzi/miniconda3/envs/rl/lib/python3.5/site-packages/numpy/core/fromnumeric.py\u001b[0m in \u001b[0;36margmax\u001b[0;34m(a, axis, out)\u001b[0m\n\u001b[1;32m    970\u001b[0m     \u001b[0;32mtry\u001b[0m\u001b[0;34m:\u001b[0m\u001b[0;34m\u001b[0m\u001b[0m\n\u001b[0;32m--> 971\u001b[0;31m         \u001b[0margmax\u001b[0m \u001b[0;34m=\u001b[0m \u001b[0ma\u001b[0m\u001b[0;34m.\u001b[0m\u001b[0margmax\u001b[0m\u001b[0;34m\u001b[0m\u001b[0m\n\u001b[0m\u001b[1;32m    972\u001b[0m     \u001b[0;32mexcept\u001b[0m \u001b[0mAttributeError\u001b[0m\u001b[0;34m:\u001b[0m\u001b[0;34m\u001b[0m\u001b[0m\n",
      "\u001b[0;31mAttributeError\u001b[0m: 'list' object has no attribute 'argmax'",
      "\nDuring handling of the above exception, another exception occurred:\n",
      "\u001b[0;31mValueError\u001b[0m                                Traceback (most recent call last)",
      "\u001b[0;32m<ipython-input-17-afb7e62600bc>\u001b[0m in \u001b[0;36m<module>\u001b[0;34m()\u001b[0m\n\u001b[1;32m      1\u001b[0m \u001b[0;31m# let the agent go through the random maze til it learns the fastest route\u001b[0m\u001b[0;34m\u001b[0m\u001b[0;34m\u001b[0m\u001b[0m\n\u001b[0;32m----> 2\u001b[0;31m \u001b[0mhist\u001b[0m \u001b[0;34m=\u001b[0m \u001b[0mlearn\u001b[0m\u001b[0;34m(\u001b[0m\u001b[0;36m100\u001b[0m\u001b[0;34m,\u001b[0m \u001b[0;36m.5\u001b[0m\u001b[0;34m,\u001b[0m \u001b[0;36m.9\u001b[0m\u001b[0;34m,\u001b[0m \u001b[0mrand_building_dict\u001b[0m\u001b[0;34m)\u001b[0m\u001b[0;34m\u001b[0m\u001b[0m\n\u001b[0m\u001b[1;32m      3\u001b[0m \u001b[0mrand_converged_q\u001b[0m \u001b[0;34m=\u001b[0m \u001b[0mhist\u001b[0m\u001b[0;34m[\u001b[0m\u001b[0;34m-\u001b[0m\u001b[0;36m1\u001b[0m\u001b[0;34m]\u001b[0m\u001b[0;34m[\u001b[0m\u001b[0;34m-\u001b[0m\u001b[0;36m1\u001b[0m\u001b[0;34m]\u001b[0m\u001b[0;34m[\u001b[0m\u001b[0;34m-\u001b[0m\u001b[0;36m1\u001b[0m\u001b[0;34m]\u001b[0m\u001b[0;34m\u001b[0m\u001b[0m\n\u001b[1;32m      4\u001b[0m \u001b[0mprint\u001b[0m\u001b[0;34m(\u001b[0m\u001b[0mrand_converged_q\u001b[0m\u001b[0;34m)\u001b[0m\u001b[0;34m\u001b[0m\u001b[0m\n",
      "\u001b[0;32m<ipython-input-11-776fbdef9aad>\u001b[0m in \u001b[0;36mlearn\u001b[0;34m(num_rounds, explore_rate, gamma, building_dict, explore_rate_decay, gamma_decay)\u001b[0m\n\u001b[1;32m     18\u001b[0m     \u001b[0;31m# play first round\u001b[0m\u001b[0;34m\u001b[0m\u001b[0;34m\u001b[0m\u001b[0m\n\u001b[1;32m     19\u001b[0m     \u001b[0mq_table\u001b[0m \u001b[0;34m=\u001b[0m \u001b[0minitialize_Q_table_known\u001b[0m\u001b[0;34m(\u001b[0m\u001b[0mbuilding_size\u001b[0m\u001b[0;34m)\u001b[0m\u001b[0;34m\u001b[0m\u001b[0m\n\u001b[0;32m---> 20\u001b[0;31m     \u001b[0mmoves_history\u001b[0m\u001b[0;34m,\u001b[0m \u001b[0maction_type_history\u001b[0m\u001b[0;34m,\u001b[0m \u001b[0mq_table_history\u001b[0m \u001b[0;34m=\u001b[0m \u001b[0mplay_round\u001b[0m\u001b[0;34m(\u001b[0m\u001b[0mq_table\u001b[0m\u001b[0;34m,\u001b[0m \u001b[0mr_table\u001b[0m\u001b[0;34m,\u001b[0m \u001b[0mgamma\u001b[0m\u001b[0;34m,\u001b[0m \u001b[0mexplore_rate\u001b[0m\u001b[0;34m)\u001b[0m\u001b[0;34m\u001b[0m\u001b[0m\n\u001b[0m\u001b[1;32m     21\u001b[0m     \u001b[0mround_history\u001b[0m\u001b[0;34m.\u001b[0m\u001b[0mappend\u001b[0m\u001b[0;34m(\u001b[0m\u001b[0;34m(\u001b[0m\u001b[0mmoves_history\u001b[0m\u001b[0;34m,\u001b[0m \u001b[0maction_type_history\u001b[0m\u001b[0;34m,\u001b[0m \u001b[0mq_table_history\u001b[0m\u001b[0;34m)\u001b[0m\u001b[0;34m)\u001b[0m\u001b[0;34m\u001b[0m\u001b[0m\n\u001b[1;32m     22\u001b[0m     \u001b[0;31m# loop through remaining rounds\u001b[0m\u001b[0;34m\u001b[0m\u001b[0;34m\u001b[0m\u001b[0m\n",
      "\u001b[0;32m<ipython-input-10-8052704d6be2>\u001b[0m in \u001b[0;36mplay_round\u001b[0;34m(q_table, r_table, gamma, explore_rate)\u001b[0m\n\u001b[1;32m     24\u001b[0m     \u001b[0;31m# continue moving through rooms until reach exit\u001b[0m\u001b[0;34m\u001b[0m\u001b[0;34m\u001b[0m\u001b[0m\n\u001b[1;32m     25\u001b[0m     \u001b[0;32mwhile\u001b[0m \u001b[0maction\u001b[0m \u001b[0;34m!=\u001b[0m \u001b[0mexit_room\u001b[0m\u001b[0;34m:\u001b[0m\u001b[0;34m\u001b[0m\u001b[0m\n\u001b[0;32m---> 26\u001b[0;31m         \u001b[0maction\u001b[0m\u001b[0;34m,\u001b[0m \u001b[0maction_type\u001b[0m\u001b[0;34m,\u001b[0m \u001b[0mq_update\u001b[0m \u001b[0;34m=\u001b[0m \u001b[0mmake_move\u001b[0m\u001b[0;34m(\u001b[0m\u001b[0mexplore_rate\u001b[0m\u001b[0;34m,\u001b[0m \u001b[0maction\u001b[0m\u001b[0;34m,\u001b[0m \u001b[0mr_table\u001b[0m\u001b[0;34m,\u001b[0m \u001b[0mgamma\u001b[0m\u001b[0;34m,\u001b[0m \u001b[0mq_update\u001b[0m\u001b[0;34m)\u001b[0m\u001b[0;34m\u001b[0m\u001b[0m\n\u001b[0m\u001b[1;32m     27\u001b[0m         \u001b[0mmoves_history\u001b[0m\u001b[0;34m.\u001b[0m\u001b[0mappend\u001b[0m\u001b[0;34m(\u001b[0m\u001b[0maction\u001b[0m\u001b[0;34m)\u001b[0m\u001b[0;34m\u001b[0m\u001b[0m\n\u001b[1;32m     28\u001b[0m         \u001b[0maction_type_history\u001b[0m\u001b[0;34m.\u001b[0m\u001b[0mappend\u001b[0m\u001b[0;34m(\u001b[0m\u001b[0maction_type\u001b[0m\u001b[0;34m)\u001b[0m\u001b[0;34m\u001b[0m\u001b[0m\n",
      "\u001b[0;32m<ipython-input-9-bd56c14936f4>\u001b[0m in \u001b[0;36mmake_move\u001b[0;34m(explore_rate, current_state, r_table, gamma, q_table)\u001b[0m\n\u001b[1;32m     13\u001b[0m     \u001b[0maction\u001b[0m\u001b[0;34m,\u001b[0m \u001b[0maction_type\u001b[0m \u001b[0;34m=\u001b[0m \u001b[0m_one_move\u001b[0m\u001b[0;34m(\u001b[0m\u001b[0mexplore_rate\u001b[0m\u001b[0;34m,\u001b[0m \u001b[0mcurrent_state\u001b[0m\u001b[0;34m,\u001b[0m \u001b[0mr_table\u001b[0m\u001b[0;34m,\u001b[0m \u001b[0mq_table\u001b[0m\u001b[0;34m)\u001b[0m\u001b[0;34m\u001b[0m\u001b[0m\n\u001b[1;32m     14\u001b[0m     \u001b[0;31m# update q-table\u001b[0m\u001b[0;34m\u001b[0m\u001b[0;34m\u001b[0m\u001b[0m\n\u001b[0;32m---> 15\u001b[0;31m     \u001b[0mupdated_q\u001b[0m \u001b[0;34m=\u001b[0m \u001b[0mupdate_Q\u001b[0m\u001b[0;34m(\u001b[0m\u001b[0mq_table\u001b[0m\u001b[0;34m,\u001b[0m \u001b[0mr_table\u001b[0m\u001b[0;34m,\u001b[0m \u001b[0mgamma\u001b[0m\u001b[0;34m,\u001b[0m \u001b[0mcurrent_state\u001b[0m\u001b[0;34m,\u001b[0m \u001b[0maction\u001b[0m\u001b[0;34m)\u001b[0m\u001b[0;34m\u001b[0m\u001b[0m\n\u001b[0m\u001b[1;32m     16\u001b[0m     \u001b[0;32mreturn\u001b[0m \u001b[0;34m(\u001b[0m\u001b[0maction\u001b[0m\u001b[0;34m,\u001b[0m \u001b[0maction_type\u001b[0m\u001b[0;34m,\u001b[0m \u001b[0mupdated_q\u001b[0m\u001b[0;34m)\u001b[0m\u001b[0;34m\u001b[0m\u001b[0m\n",
      "\u001b[0;32m<ipython-input-8-93637ade20a5>\u001b[0m in \u001b[0;36mupdate_Q\u001b[0;34m(q_table, r_table, gamma, current_state, action)\u001b[0m\n\u001b[1;32m     15\u001b[0m         \u001b[0;32mreturn\u001b[0m \u001b[0;32mNone\u001b[0m\u001b[0;34m\u001b[0m\u001b[0m\n\u001b[1;32m     16\u001b[0m     \u001b[0;32melse\u001b[0m\u001b[0;34m:\u001b[0m\u001b[0;34m\u001b[0m\u001b[0m\n\u001b[0;32m---> 17\u001b[0;31m         \u001b[0mmax_next_move_index\u001b[0m \u001b[0;34m=\u001b[0m \u001b[0m_one_exploit_move\u001b[0m\u001b[0;34m(\u001b[0m\u001b[0maction\u001b[0m\u001b[0;34m,\u001b[0m \u001b[0mr_table\u001b[0m\u001b[0;34m,\u001b[0m \u001b[0mq_table\u001b[0m\u001b[0;34m)\u001b[0m\u001b[0;34m\u001b[0m\u001b[0m\n\u001b[0m\u001b[1;32m     18\u001b[0m         \u001b[0mmax_next_move_value\u001b[0m \u001b[0;34m=\u001b[0m \u001b[0mq_table\u001b[0m\u001b[0;34m[\u001b[0m\u001b[0maction\u001b[0m\u001b[0;34m,\u001b[0m \u001b[0mmax_next_move_index\u001b[0m\u001b[0;34m]\u001b[0m\u001b[0;34m\u001b[0m\u001b[0m\n\u001b[1;32m     19\u001b[0m         \u001b[0;31m# update q_table (with a copy)\u001b[0m\u001b[0;34m\u001b[0m\u001b[0;34m\u001b[0m\u001b[0m\n",
      "\u001b[0;32m<ipython-input-7-1007bada26ac>\u001b[0m in \u001b[0;36m_one_exploit_move\u001b[0;34m(current_state, r_table, q_table)\u001b[0m\n\u001b[1;32m     44\u001b[0m         \u001b[0mnext_Q_values\u001b[0m\u001b[0;34m.\u001b[0m\u001b[0mappend\u001b[0m\u001b[0;34m(\u001b[0m\u001b[0mq_table\u001b[0m\u001b[0;34m[\u001b[0m\u001b[0mcoord\u001b[0m\u001b[0;34m]\u001b[0m\u001b[0;34m)\u001b[0m\u001b[0;34m\u001b[0m\u001b[0m\n\u001b[1;32m     45\u001b[0m     \u001b[0;31m# find maximum Q-value from next moves\u001b[0m\u001b[0;34m\u001b[0m\u001b[0;34m\u001b[0m\u001b[0m\n\u001b[0;32m---> 46\u001b[0;31m     \u001b[0mmax_next_move\u001b[0m \u001b[0;34m=\u001b[0m \u001b[0mnp\u001b[0m\u001b[0;34m.\u001b[0m\u001b[0margmax\u001b[0m\u001b[0;34m(\u001b[0m\u001b[0mnext_Q_values\u001b[0m\u001b[0;34m)\u001b[0m\u001b[0;34m\u001b[0m\u001b[0m\n\u001b[0m\u001b[1;32m     47\u001b[0m     \u001b[0;32mreturn\u001b[0m \u001b[0mnext_moves_coordinates\u001b[0m\u001b[0;34m[\u001b[0m\u001b[0mmax_next_move\u001b[0m\u001b[0;34m]\u001b[0m\u001b[0;34m[\u001b[0m\u001b[0;36m1\u001b[0m\u001b[0;34m]\u001b[0m\u001b[0;34m\u001b[0m\u001b[0m\n\u001b[1;32m     48\u001b[0m \u001b[0;34m\u001b[0m\u001b[0m\n",
      "\u001b[0;32m/Users/mcapizzi/miniconda3/envs/rl/lib/python3.5/site-packages/numpy/core/fromnumeric.py\u001b[0m in \u001b[0;36margmax\u001b[0;34m(a, axis, out)\u001b[0m\n\u001b[1;32m    971\u001b[0m         \u001b[0margmax\u001b[0m \u001b[0;34m=\u001b[0m \u001b[0ma\u001b[0m\u001b[0;34m.\u001b[0m\u001b[0margmax\u001b[0m\u001b[0;34m\u001b[0m\u001b[0m\n\u001b[1;32m    972\u001b[0m     \u001b[0;32mexcept\u001b[0m \u001b[0mAttributeError\u001b[0m\u001b[0;34m:\u001b[0m\u001b[0;34m\u001b[0m\u001b[0m\n\u001b[0;32m--> 973\u001b[0;31m         \u001b[0;32mreturn\u001b[0m \u001b[0m_wrapit\u001b[0m\u001b[0;34m(\u001b[0m\u001b[0ma\u001b[0m\u001b[0;34m,\u001b[0m \u001b[0;34m'argmax'\u001b[0m\u001b[0;34m,\u001b[0m \u001b[0maxis\u001b[0m\u001b[0;34m,\u001b[0m \u001b[0mout\u001b[0m\u001b[0;34m)\u001b[0m\u001b[0;34m\u001b[0m\u001b[0m\n\u001b[0m\u001b[1;32m    974\u001b[0m     \u001b[0;32mreturn\u001b[0m \u001b[0margmax\u001b[0m\u001b[0;34m(\u001b[0m\u001b[0maxis\u001b[0m\u001b[0;34m,\u001b[0m \u001b[0mout\u001b[0m\u001b[0;34m)\u001b[0m\u001b[0;34m\u001b[0m\u001b[0m\n\u001b[1;32m    975\u001b[0m \u001b[0;34m\u001b[0m\u001b[0m\n",
      "\u001b[0;32m/Users/mcapizzi/miniconda3/envs/rl/lib/python3.5/site-packages/numpy/core/fromnumeric.py\u001b[0m in \u001b[0;36m_wrapit\u001b[0;34m(obj, method, *args, **kwds)\u001b[0m\n\u001b[1;32m     46\u001b[0m     \u001b[0;32mexcept\u001b[0m \u001b[0mAttributeError\u001b[0m\u001b[0;34m:\u001b[0m\u001b[0;34m\u001b[0m\u001b[0m\n\u001b[1;32m     47\u001b[0m         \u001b[0mwrap\u001b[0m \u001b[0;34m=\u001b[0m \u001b[0;32mNone\u001b[0m\u001b[0;34m\u001b[0m\u001b[0m\n\u001b[0;32m---> 48\u001b[0;31m     \u001b[0mresult\u001b[0m \u001b[0;34m=\u001b[0m \u001b[0mgetattr\u001b[0m\u001b[0;34m(\u001b[0m\u001b[0masarray\u001b[0m\u001b[0;34m(\u001b[0m\u001b[0mobj\u001b[0m\u001b[0;34m)\u001b[0m\u001b[0;34m,\u001b[0m \u001b[0mmethod\u001b[0m\u001b[0;34m)\u001b[0m\u001b[0;34m(\u001b[0m\u001b[0;34m*\u001b[0m\u001b[0margs\u001b[0m\u001b[0;34m,\u001b[0m \u001b[0;34m**\u001b[0m\u001b[0mkwds\u001b[0m\u001b[0;34m)\u001b[0m\u001b[0;34m\u001b[0m\u001b[0m\n\u001b[0m\u001b[1;32m     49\u001b[0m     \u001b[0;32mif\u001b[0m \u001b[0mwrap\u001b[0m\u001b[0;34m:\u001b[0m\u001b[0;34m\u001b[0m\u001b[0m\n\u001b[1;32m     50\u001b[0m         \u001b[0;32mif\u001b[0m \u001b[0;32mnot\u001b[0m \u001b[0misinstance\u001b[0m\u001b[0;34m(\u001b[0m\u001b[0mresult\u001b[0m\u001b[0;34m,\u001b[0m \u001b[0mmu\u001b[0m\u001b[0;34m.\u001b[0m\u001b[0mndarray\u001b[0m\u001b[0;34m)\u001b[0m\u001b[0;34m:\u001b[0m\u001b[0;34m\u001b[0m\u001b[0m\n",
      "\u001b[0;31mValueError\u001b[0m: attempt to get argmax of an empty sequence"
     ]
    }
   ],
   "source": [
    "# let the agent go through the random maze til it learns the fastest route\n",
    "hist = learn(100, .5, .9, rand_building_dict)\n",
    "rand_converged_q = hist[-1][-1][-1]\n",
    "print(rand_converged_q)"
   ]
  },
  {
   "cell_type": "code",
   "execution_count": null,
   "metadata": {
    "collapsed": false
   },
   "outputs": [],
   "source": [
    "# play as the agent with \"0 explore\"\n",
    "m, _, _ = play_round(rand_converged_q, rand_r_table, 1, 0)\n",
    "m"
   ]
  },
  {
   "cell_type": "code",
   "execution_count": null,
   "metadata": {
    "collapsed": false
   },
   "outputs": [],
   "source": [
    "rand_building_dict"
   ]
  }
 ],
 "metadata": {
  "anaconda-cloud": {},
  "kernelspec": {
   "display_name": "Python [conda env:rl]",
   "language": "python",
   "name": "conda-env-rl-py"
  },
  "language_info": {
   "codemirror_mode": {
    "name": "ipython",
    "version": 3
   },
   "file_extension": ".py",
   "mimetype": "text/x-python",
   "name": "python",
   "nbconvert_exporter": "python",
   "pygments_lexer": "ipython3",
   "version": "3.5.2"
  }
 },
 "nbformat": 4,
 "nbformat_minor": 1
}
